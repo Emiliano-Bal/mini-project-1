{
 "cells": [
  {
   "cell_type": "code",
   "execution_count": null,
   "id": "c4eb6fb1",
   "metadata": {
    "scrolled": true
   },
   "outputs": [
    {
     "name": "stdout",
     "output_type": "stream",
     "text": [
      "Please enter your name: Emiliano\n",
      "Welcome Emiliano, your bank balance is $1000 \n",
      "Betting $25\n",
      "The dealer received card of value 3\n",
      "Emiliano received cards of value 5 and 1\n",
      "Dealer total is 3\n",
      "Emiliano's total is 6 \n",
      "\n",
      "Type 'h' to hit and 's' to stay h\n",
      "Emiliano pulled a 10\n",
      "Dealer total is 3\n",
      "Emiliano's cards are 5 1 10\n",
      "Emiliano's total is 16 \n",
      "\n",
      "Type 'h' to hit and 's' to stay h\n",
      "Emiliano pulled a 7\n",
      "Dealer total is 3\n",
      "Emiliano's cards are 5 1 10 7\n",
      "Emiliano's total is 23 \n",
      "\n",
      "You busted!\n",
      "Type 'y' to play again, or type any key to quit\n",
      "y\n",
      "\n",
      "\n",
      "Welcome Emiliano, your bank balance is $975 \n",
      "Betting $25\n",
      "The dealer received card of value 5\n",
      "Emiliano received cards of value 3 and 11\n",
      "Dealer total is 5\n",
      "Emiliano's total is 14 \n",
      "\n"
     ]
    }
   ],
   "source": [
    "from BlackJack import *"
   ]
  },
  {
   "cell_type": "code",
   "execution_count": null,
   "id": "6dab30e3",
   "metadata": {},
   "outputs": [],
   "source": []
  },
  {
   "cell_type": "code",
   "execution_count": null,
   "id": "37322514",
   "metadata": {},
   "outputs": [],
   "source": []
  }
 ],
 "metadata": {
  "kernelspec": {
   "display_name": "Python 3 (ipykernel)",
   "language": "python",
   "name": "python3"
  },
  "language_info": {
   "codemirror_mode": {
    "name": "ipython",
    "version": 3
   },
   "file_extension": ".py",
   "mimetype": "text/x-python",
   "name": "python",
   "nbconvert_exporter": "python",
   "pygments_lexer": "ipython3",
   "version": "3.9.13"
  }
 },
 "nbformat": 4,
 "nbformat_minor": 5
}
